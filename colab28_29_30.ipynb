{
 "cells": [
  {
   "cell_type": "markdown",
   "id": "cfb38e44-2b29-49c8-9db5-9f6670ae9e9c",
   "metadata": {},
   "source": [
    "Задание 28\n",
    "а) Вывести ряд Фибоначчи до n чисел, используя лямбда-функцию."
   ]
  },
  {
   "cell_type": "code",
   "execution_count": 1,
   "id": "8ebc79a9-d779-4fea-b6ef-733a53a02582",
   "metadata": {},
   "outputs": [
    {
     "name": "stdin",
     "output_type": "stream",
     "text": [
      "Введите n:  18\n"
     ]
    },
    {
     "name": "stdout",
     "output_type": "stream",
     "text": [
      "Ряд Фибоначчи из 18 чисел: [0, 1, 1, 2, 3, 5, 8, 13, 21, 34, 55, 89, 144, 233, 377, 610, 987, 1597]\n"
     ]
    }
   ],
   "source": [
    "n = int(input(\"Введите n: \"))\n",
    "fib = lambda x: x if x <= 1 else fib(x-1) + fib(x-2)\n",
    "fibonacci_series = [fib(i) for i in range(n)]\n",
    "print(f\"Ряд Фибоначчи из {n} чисел: {fibonacci_series}\")"
   ]
  },
  {
   "cell_type": "markdown",
   "id": "4e601111-6cb2-4b75-9340-02129af2fa13",
   "metadata": {},
   "source": [
    "б) Найти следующее после заданного число, полученное перестановкой цифр заданного числа. Примеры: 12 → 21, 10 → False, 201 → 210, 102 → 120, 445 → 454."
   ]
  },
  {
   "cell_type": "code",
   "execution_count": 5,
   "id": "ca6b8d3f-b722-4650-8529-1aa01bc4d493",
   "metadata": {},
   "outputs": [
    {
     "name": "stdin",
     "output_type": "stream",
     "text": [
      "Введите число:  2104\n"
     ]
    },
    {
     "name": "stdout",
     "output_type": "stream",
     "text": [
      "Искомое число: 2140\n"
     ]
    }
   ],
   "source": [
    "import itertools\n",
    "\n",
    "\n",
    "number = int(input(\"Введите число: \"))\n",
    "permutation = itertools.permutations(str(number))\n",
    "num_list = []\n",
    "for i in permutation:\n",
    "    discharge_mult = 1\n",
    "    num = 0\n",
    "    for j in i[::-1]: # Преобразуем кортежи в числа\n",
    "        num += int(j) * discharge_mult\n",
    "        discharge_mult *= 10\n",
    "    num_list.append(num)\n",
    "num_list = sorted(num_list)\n",
    "print(f'Искомое число: {num_list[num_list.index(number)+1]}') # Берём следующее после нашего в отсортированном списке перестановок\n"
   ]
  },
  {
   "cell_type": "markdown",
   "id": "6d1a9bcb-a6c0-4278-a623-1e98bedc43ef",
   "metadata": {},
   "source": [
    "в) Напишите программу для поиска элементов заданного списка строк, содержащих определённую подстроку, используя лямбда-функцию. Пример: ['red', 'black', 'white', 'green', 'orange']; ack → ['black']; abc → []."
   ]
  },
  {
   "cell_type": "code",
   "execution_count": 6,
   "id": "8b9dee13-6def-4079-90be-5ea433b6b6d0",
   "metadata": {},
   "outputs": [
    {
     "name": "stdin",
     "output_type": "stream",
     "text": [
      "Введите подстроку:  ack\n"
     ]
    },
    {
     "name": "stdout",
     "output_type": "stream",
     "text": [
      "['black']\n"
     ]
    }
   ],
   "source": [
    "str_list = [\"red\", \"black\", \"white\", \"green\", \"orange\"]\n",
    "substr = input(\"Введите подстроку: \")\n",
    "result = list(filter(lambda x: substr in x, str_list))\n",
    "print(result)"
   ]
  },
  {
   "cell_type": "markdown",
   "id": "d418e650-b0ae-4940-a040-c040962a023b",
   "metadata": {},
   "source": [
    "Задание 29\n",
    "а) Преобразуйте заданный список кортежей в список строк с помощью функции map(). Пример: [('red', 'pink'), ('white', 'black'), ('orange', 'green')] → ['red pink', 'white black', 'orange green']; [('Sheridan', 'Gentry'); ('Laila', 'Mckee'), ('Ahsan', 'Rivas'), ('Conna', 'Gonzalez')] → ['Sheridan Gentry', 'Laila Mckee', 'Ahsan Rivas', 'Conna Gonzalez']."
   ]
  },
  {
   "cell_type": "code",
   "execution_count": 9,
   "id": "48927a12-6844-48b1-832f-d59039861361",
   "metadata": {},
   "outputs": [
    {
     "name": "stdout",
     "output_type": "stream",
     "text": [
      "['red pink', 'white black', 'orange green']\n"
     ]
    }
   ],
   "source": [
    "tuples_list = [('red', 'pink'), ('white', 'black'), ('orange', 'green')]\n",
    "str_list = list(map(lambda x: ' '.join(x), tuples_list))\n",
    "print(str_list) "
   ]
  },
  {
   "cell_type": "markdown",
   "id": "c9883fae-2311-44fc-bb0e-0d005d7e4a8c",
   "metadata": {},
   "source": [
    "б) Сгенерировать список целых чисел. С помощью функции filter() выбрать из списка все числа кратные 3 и упорядочить их по возрастанию. Используя функцию reduce(), найти их произведение."
   ]
  },
  {
   "cell_type": "code",
   "execution_count": 13,
   "id": "9ef14d1b-4a23-4eab-8c97-d586c2389cf6",
   "metadata": {},
   "outputs": [
    {
     "name": "stdout",
     "output_type": "stream",
     "text": [
      "[3, 6, 9, 12, 15, 18, 21, 24, 27, 30, 33, 36, 39, 42, 45, 48, 51] 45933532441368219648000\n"
     ]
    }
   ],
   "source": [
    "from functools import reduce\n",
    "\n",
    "\n",
    "num_list = [i for i in range(1, 52)]\n",
    "num_multiples3 = list(filter(lambda x: x % 3 == 0, num_list))\n",
    "num_multiples3.sort()\n",
    "result = reduce(lambda x,y: x*y, num_multiples3)\n",
    "print(num_multiples3, result)"
   ]
  },
  {
   "cell_type": "markdown",
   "id": "a79adf1f-853d-4745-a5e3-f7f7be487b92",
   "metadata": {},
   "source": [
    "Задание 30\n",
    "а) Создайте декоратор, который будет проверять возвращаемое значение функции на корректность и заменять его на предопределенное значение при обнаружении некорректных данных."
   ]
  },
  {
   "cell_type": "code",
   "execution_count": 16,
   "id": "44caa64c-8b87-4953-8ea1-70df652ef394",
   "metadata": {},
   "outputs": [
    {
     "name": "stdout",
     "output_type": "stream",
     "text": [
      "Результат неккоректный\n",
      "None\n"
     ]
    }
   ],
   "source": [
    "def positive_result(function):\n",
    "    def wrapper(*args, **kwargs):\n",
    "        result = function(*args, **kwargs)\n",
    "        if result <= 0:\n",
    "            print(\"Результат неккоректный\")\n",
    "            return None\n",
    "        return result\n",
    "    return wrapper\n",
    "\n",
    "\n",
    "@positive_result\n",
    "def minus(a, b):\n",
    "    return a - b\n",
    "\n",
    "\n",
    "print(minus(10, 20))"
   ]
  },
  {
   "cell_type": "markdown",
   "id": "92f04eb1-6713-4360-ac9a-9888bc12e8ef",
   "metadata": {},
   "source": [
    "б) Создайте декоратор, который будет заменять значение аргумента на заданное значение только если оно удовлетворяет определенному условию."
   ]
  },
  {
   "cell_type": "code",
   "execution_count": null,
   "id": "14bd8834-1ef5-45b1-839a-1981f0014b28",
   "metadata": {},
   "outputs": [],
   "source": []
  }
 ],
 "metadata": {
  "kernelspec": {
   "display_name": "Python 3 (ipykernel)",
   "language": "python",
   "name": "python3"
  },
  "language_info": {
   "codemirror_mode": {
    "name": "ipython",
    "version": 3
   },
   "file_extension": ".py",
   "mimetype": "text/x-python",
   "name": "python",
   "nbconvert_exporter": "python",
   "pygments_lexer": "ipython3",
   "version": "3.11.7"
  }
 },
 "nbformat": 4,
 "nbformat_minor": 5
}
