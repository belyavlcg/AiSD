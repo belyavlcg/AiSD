{
 "cells": [
  {
   "cell_type": "markdown",
   "id": "38e33a31-c857-4216-9ac3-e0f9f3c7fe7e",
   "metadata": {},
   "source": [
    "Задание 14\n",
    "Описать функцию Quarter, определяющую номер координатной четверти, в которой находится точка с ненулевыми вещественными координатами  (x,y) ."
   ]
  },
  {
   "cell_type": "code",
   "execution_count": 2,
   "id": "c6598761-0551-48dd-8b3e-188baeba2c9e",
   "metadata": {},
   "outputs": [
    {
     "name": "stdout",
     "output_type": "stream",
     "text": [
      "Точка (3.0, 4.0) находится в 1 четверти.\n"
     ]
    }
   ],
   "source": [
    "def Quarter(x, y):\n",
    "    if x > 0 and y > 0:\n",
    "        return 1  \n",
    "    elif x < 0 and y > 0:\n",
    "        return 2  \n",
    "    elif x < 0 and y < 0:\n",
    "        return 3  \n",
    "    elif x > 0 and y < 0:\n",
    "        return 4 \n",
    "    else:\n",
    "        raise ValueError(\"Координаты должны быть ненулевыми.\")\n",
    "\n",
    "x = 3.0\n",
    "y = 4.0\n",
    "quarter_number = Quarter(x, y)\n",
    "print(f\"Точка ({x}, {y}) находится в {quarter_number} четверти.\")\n"
   ]
  },
  {
   "cell_type": "markdown",
   "id": "9368a806-a1c9-456e-99e9-3593bf0bdb46",
   "metadata": {},
   "source": [
    "Задание 15\n",
    "Описать функцию SwapCol, осуществляющую перемену местами столбцов матрицы  A  размера  M×N  с номерами  K1  и  K2 ."
   ]
  },
  {
   "cell_type": "code",
   "execution_count": 3,
   "id": "42c57088-69f0-41bf-ad59-1bc23fdb4ff6",
   "metadata": {},
   "outputs": [
    {
     "name": "stdout",
     "output_type": "stream",
     "text": [
      "Исходная матрица:\n",
      "[1, 2, 3]\n",
      "[4, 5, 6]\n",
      "[7, 8, 9]\n",
      "\n",
      "Матрица после обмена столбцов K1 и K2:\n",
      "[3, 2, 1]\n",
      "[6, 5, 4]\n",
      "[9, 8, 7]\n"
     ]
    }
   ],
   "source": [
    "def SwapCol(A, K1, K2):\n",
    "    if K1 < 0 or K1 >= len(A[0]) or K2 < 0 or K2 >= len(A[0]):\n",
    "        raise IndexError(\"Неверные индексы столбцов\")\n",
    "    \n",
    "    for row in A:\n",
    "        row[K1], row[K2] = row[K2], row[K1]\n",
    "\n",
    "\n",
    "matrix = [\n",
    "    [1, 2, 3],\n",
    "    [4, 5, 6],\n",
    "    [7, 8, 9]\n",
    "]\n",
    "\n",
    "print(\"Исходная матрица:\")\n",
    "for row in matrix:\n",
    "    print(row)\n",
    "\n",
    "K1 = 0\n",
    "K2 = 2\n",
    "SwapCol(matrix, K1, K2)\n",
    "\n",
    "print(\"\\nМатрица после обмена столбцов K1 и K2:\")\n",
    "for row in matrix:\n",
    "    print(row)\n"
   ]
  },
  {
   "cell_type": "markdown",
   "id": "bad9774e-c0af-4897-ac14-4e78fa98f51e",
   "metadata": {},
   "source": [
    "Задание 16\n",
    "а) Создайте функцию filter_numbers, которая принимает список чисел numbers и необязательный параметр condition. Параметр condition — это функция, которая принимает число и возвращает True или False. Функция filter_numbers должна вернуть новый список, содержащий числа, для которых condition вернула True. Если condition не указана, вернуть исходный список. Примеры вызова и возвращаемые результаты:\r\n",
    "filter_numbers([1, 2, 3, 4, 5]) → [1, 2, 3, 4, 5]\r\n",
    "filter_numbers([1, 2, 3, 4, 5], condition=lambda x: x % 2 == 0) → [2, 4]\r\n",
    "\r\n",
    "б) Напишите функцию transform_numbers, которая принимает список чисел numbers и необязательный параметр transform_function. Функция должна применить transform_function к каждому элементу и вернуть новый список. Если transform_function не указана, вернуть исходный список. Примеры вызова и возвращаемые результаты:\r\n",
    "transform_numbers([1, 2, 3]) → [1, 2, 3]\r\n",
    "transform_numbers([1, 2, 3], transform_function=lambda x: x ** 3) → [1, 8, 27]\r\n",
    "\r\n",
    "в) Реализуйте функцию cube_numbers, которая принимает произвольное количество числовых списков и возвращает новый список, содержащий кубы всех чисел из всех списков. Примеры вызова и возвращаемые результаты:\r\n",
    "cube_numbers([1, 2], [3, 4]) → [1, 8, 27, 64]\r\n",
    "cube_numbers([5], [6, 7], [8]) → [125, 216, 343, 512]\r\n",
    "\r\n",
    "г) Напишите функцию product_non_zero, которая принимает произвольное количество числовых аргументов и возвращает их произведение, исключая нули. Примеры вызова и возвращаемые результаты:\r\n",
    "product_non_zero(1, 2, 0, 4) → 8\r\n",
    "product_non_zero(0, 0, 0) → 1 (так как нет ненулевых чисел, возвращается мультипликативная единица)"
   ]
  },
  {
   "cell_type": "code",
   "execution_count": 4,
   "id": "d31435b1-cd8a-4afd-a9ae-3ee14293c271",
   "metadata": {},
   "outputs": [
    {
     "name": "stdout",
     "output_type": "stream",
     "text": [
      "[1, 2, 3, 4, 5]\n",
      "[2, 4]\n"
     ]
    }
   ],
   "source": [
    "#а\n",
    "def filter_numbers(numbers, condition=None):\n",
    "    if condition is None:\n",
    "        return numbers\n",
    "    return [num for num in numbers if condition(num)]\n",
    "\n",
    "print(filter_numbers([1, 2, 3, 4, 5]))\n",
    "print(filter_numbers([1, 2, 3, 4, 5], condition=lambda x: x % 2 == 0))\n",
    "\n"
   ]
  },
  {
   "cell_type": "code",
   "execution_count": 5,
   "id": "be966e57-d25b-4d54-9468-dcf67a2fdb8a",
   "metadata": {},
   "outputs": [
    {
     "name": "stdout",
     "output_type": "stream",
     "text": [
      "[1, 2, 3]\n",
      "[1, 8, 27]\n"
     ]
    }
   ],
   "source": [
    "#б\n",
    "def transform_numbers(numbers, transform_function=None):\n",
    "    if transform_function is None:\n",
    "        return numbers\n",
    "    return [transform_function(num) for num in numbers]\n",
    "\n",
    "print(transform_numbers([1, 2, 3]))\n",
    "print(transform_numbers([1, 2, 3], transform_function=lambda x: x ** 3))\n"
   ]
  },
  {
   "cell_type": "code",
   "execution_count": 6,
   "id": "1ade2091-a7ad-4f52-885f-5c3b9c2f8579",
   "metadata": {},
   "outputs": [
    {
     "name": "stdout",
     "output_type": "stream",
     "text": [
      "[1, 8, 27, 64]\n",
      "[125, 216, 343, 512]\n"
     ]
    }
   ],
   "source": [
    "#в\n",
    "def cube_numbers(*lists):\n",
    "    return [num ** 3 for lst in lists for num in lst]\n",
    "\n",
    "print(cube_numbers([1, 2], [3, 4]))\n",
    "print(cube_numbers([5], [6, 7], [8]))\n"
   ]
  },
  {
   "cell_type": "code",
   "execution_count": 7,
   "id": "299b1b6c-b692-46e2-b40a-cdc32fddbf90",
   "metadata": {},
   "outputs": [
    {
     "name": "stdout",
     "output_type": "stream",
     "text": [
      "8\n",
      "1\n"
     ]
    }
   ],
   "source": [
    "#г\n",
    "def product_non_zero(*args):\n",
    "    product = 1\n",
    "    has_non_zero = False\n",
    "    \n",
    "    for num in args:\n",
    "        if num != 0:\n",
    "            product *= num\n",
    "            has_non_zero = True\n",
    "    \n",
    "    return product if has_non_zero else 1\n",
    "\n",
    "print(product_non_zero(1, 2, 0, 4))\n",
    "print(product_non_zero(0, 0, 0))\n"
   ]
  },
  {
   "cell_type": "markdown",
   "id": "751d3093-9811-429d-a089-f715ca4c3bce",
   "metadata": {},
   "source": [
    "Задание 17\n",
    "Описать рекурсивную функцию Simm, проверяющую, является ли симметричной строка  S , без использования оператора цикла. С помощью этой функции проверить заданную строку."
   ]
  },
  {
   "cell_type": "code",
   "execution_count": 8,
   "id": "427f3927-3844-412b-b7fe-e433b83492f5",
   "metadata": {},
   "outputs": [
    {
     "name": "stdout",
     "output_type": "stream",
     "text": [
      "Строка \"abcdeffedcba\" является симметричной.\n"
     ]
    }
   ],
   "source": [
    "def Simm(s):\n",
    "    s = ''.join(filter(str.isalnum, s)).lower()\n",
    "    if len(s) <= 1:\n",
    "        return True\n",
    "    if s[0] != s[-1]:\n",
    "        return False\n",
    "    return Simm(s[1:-1])\n",
    "\n",
    "test_string = \"abcdeffedcba\"\n",
    "if Simm(test_string):\n",
    "    print(f'Строка \"{test_string}\" является симметричной.')\n",
    "else:\n",
    "    print(f'Строка \"{test_string}\" не является симметричной.')\n"
   ]
  },
  {
   "cell_type": "markdown",
   "id": "ab27ce64-1112-4ff2-8bdb-cfa2abe70ce6",
   "metadata": {},
   "source": [
    "Задание 18\n",
    "Создать модуль, содержащий указанные функции:\r\n",
    "вычисления модуля комплексного числа;\r\n",
    "умножения комплексных чисел;\r\n",
    "деления комплексных чисел.\r\n",
    "Привести пример на использование модуля."
   ]
  },
  {
   "cell_type": "code",
   "execution_count": 10,
   "id": "66c46c67-4ac6-4b72-a1b1-daf943fbe945",
   "metadata": {},
   "outputs": [],
   "source": [
    "import cmath\n",
    "\n",
    "def modul(complex_num):\n",
    "    \"\"\"Возвращает модуль комплексного числа.\"\"\"\n",
    "    return abs(complex_num)\n",
    "\n",
    "def multiply(complex_num1, complex_num2):\n",
    "    \"\"\"Умножение двух комплексных чисел.\"\"\"\n",
    "    return complex_num1 * complex_num2\n",
    "\n",
    "def divide(complex_num1, complex_num2):\n",
    "    \"\"\"Деление первого комплексного числа на второе.\"\"\"\n",
    "    if complex_num2 == 0:\n",
    "        raise ValueError(\"Деление на ноль невозможно.\")\n",
    "    return complex_num1 / complex_num2\n"
   ]
  },
  {
   "cell_type": "code",
   "execution_count": 11,
   "id": "7731186c-5af1-4086-a195-23a2cfbae00f",
   "metadata": {},
   "outputs": [
    {
     "name": "stdout",
     "output_type": "stream",
     "text": [
      "Модуль (3+4j) равен 5.0\n",
      "Модуль (1-2j) равен 2.23606797749979\n",
      "(3+4j) * (1-2j) = (11-2j)\n",
      "(3+4j) / (1-2j) = (-1+2j)\n"
     ]
    }
   ],
   "source": [
    "z1 = complex(3, 4)  # 3 + 4i\n",
    "z2 = complex(1, -2) # 1 - 2i\n",
    "\n",
    "mod_z1 = modul(z1)\n",
    "mod_z2 = modul(z2)\n",
    "\n",
    "print(f\"Модуль {z1} равен {mod_z1}\")\n",
    "print(f\"Модуль {z2} равен {mod_z2}\")\n",
    "\n",
    "product = multiply(z1, z2)\n",
    "print(f\"{z1} * {z2} = {product}\")\n",
    "\n",
    "quotient = divide(z1, z2)\n",
    "print(f\"{z1} / {z2} = {quotient}\")"
   ]
  },
  {
   "cell_type": "markdown",
   "id": "094b89da-7729-4a08-b8f6-c7cbdf020039",
   "metadata": {},
   "source": [
    "Задание 22\n",
    "а) Пользователь вводит строку, состоящую из номеров кредитных карт, разделенных запятыми. Напишите функцию, которая с помощью регулярного выражения проверяет, все ли номера кредитных карт корректны (формат 9999 9999 9999 9999).\r\n",
    "б) Дан текстовый файл. Напишите функцию, которая с помощью регулярного выражения находит все упоминания денежных сумм в формате $999.99 и выводит их список."
   ]
  },
  {
   "cell_type": "code",
   "execution_count": 13,
   "id": "45e5fe2b-dd69-41a0-9afb-5e209ce8c318",
   "metadata": {},
   "outputs": [
    {
     "name": "stdin",
     "output_type": "stream",
     "text": [
      "Введите номера кредитных карт, разделенные запятыми:  1234 3452 5321 5321, 1455 2049 9593 9204\n"
     ]
    },
    {
     "name": "stdout",
     "output_type": "stream",
     "text": [
      "Все номера кредитных карт корректны.\n"
     ]
    }
   ],
   "source": [
    "#а\n",
    "import re\n",
    "\n",
    "def check(cards_string):\n",
    "    pattern = r'^(?:\\d{4} \\d{4} \\d{4} \\d{4})(?:, (?:\\d{4} \\d{4} \\d{4} \\d{4}))*$'\n",
    "    \n",
    "    # Проверяем соответствие всей строки паттерну\n",
    "    return bool(re.match(pattern, cards_string))\n",
    "\n",
    "# Пример использовани\n",
    "cards = input(\"Введите номера кредитных карт, разделенные запятыми: \")\n",
    "if check(cards):\n",
    "    print(\"Все номера кредитных карт корректны.\")\n",
    "else:\n",
    "    print(\"Некоторые номера кредитных карт некорректны.\")\n"
   ]
  },
  {
   "cell_type": "code",
   "execution_count": null,
   "id": "9f2db7ea-3a29-4420-b86e-d0b1ae5db78b",
   "metadata": {},
   "outputs": [],
   "source": [
    "#б\n",
    "import re\n",
    "\n",
    "def find_money_amounts(filename):\n",
    "    with open(filename, 'r') as file:\n",
    "        content = file.read()\n",
    "    pattern = r'\\$\\d+(\\.\\d{2})?'\n",
    "    amounts = re.findall(pattern, content)\n",
    "    return amounts\n",
    "\n",
    "\n",
    "filename = 'a.txt' \n",
    "money_amounts = find_money_amounts(filename)\n",
    "print(\"Найденные суммы:\")\n",
    "for amount in money_amounts:\n",
    "    print(amount)\n"
   ]
  },
  {
   "cell_type": "markdown",
   "id": "2b657563-6524-4e6e-851f-b684d4b8e37c",
   "metadata": {},
   "source": [
    "Задание 23\n",
    "а) Пользователь вводит свой рост. Если рост меньше 0 или больше 300 см, выбрасывается исключение «Некорректный рост». В остальных случаях выводится сообщение «Рост введен корректно».\r\n",
    "б) Пользователь вводит вес. Если вес меньше 0 или больше 500 кг, выбрасывается исключение «Некорректный вес». В остальных случаях выводится сообщение «Вес введен корректно».\r\n",
    "в) Пользователь вводит температуру. Если температура меньше –273.15 градусов Цельсия, выбрасывается исключение «Некорректная температура». В остальных случаях выводится сообщение «Температура введена корректно»."
   ]
  },
  {
   "cell_type": "code",
   "execution_count": 15,
   "id": "7b9d3aa3-a993-4b35-8559-85daa6e143e2",
   "metadata": {},
   "outputs": [
    {
     "name": "stdin",
     "output_type": "stream",
     "text": [
      "Введите ваш рост в см:  186\n"
     ]
    },
    {
     "name": "stdout",
     "output_type": "stream",
     "text": [
      "Рост введен корректно\n"
     ]
    },
    {
     "name": "stdin",
     "output_type": "stream",
     "text": [
      "Введите ваш вес в кг:  78\n"
     ]
    },
    {
     "name": "stdout",
     "output_type": "stream",
     "text": [
      "Вес введен корректно\n"
     ]
    },
    {
     "name": "stdin",
     "output_type": "stream",
     "text": [
      "Введите температуру в градусах Цельсия:  36.6\n"
     ]
    },
    {
     "name": "stdout",
     "output_type": "stream",
     "text": [
      "Температура введена корректно\n"
     ]
    }
   ],
   "source": [
    "def check_height():\n",
    "    try:\n",
    "        height = float(input(\"Введите ваш рост в см: \"))\n",
    "        if height < 0 or height > 300:\n",
    "            raise ValueError(\"Некорректный рост\")\n",
    "        print(\"Рост введен корректно\")\n",
    "    except ValueError as e:\n",
    "        print(e)\n",
    "\n",
    "def check_weight():\n",
    "    try:\n",
    "        weight = float(input(\"Введите ваш вес в кг: \"))\n",
    "        if weight < 0 or weight > 500:\n",
    "            raise ValueError(\"Некорректный вес\")\n",
    "        print(\"Вес введен корректно\")\n",
    "    except ValueError as e:\n",
    "        print(e)\n",
    "\n",
    "def check_temperature():\n",
    "    try:\n",
    "        temperature = float(input(\"Введите температуру в градусах Цельсия: \"))\n",
    "        if temperature < -273.15:\n",
    "            raise ValueError(\"Некорректная температура\")\n",
    "        print(\"Температура введена корректно\")\n",
    "    except ValueError as e:\n",
    "        print(e)\n",
    "\n",
    "\n",
    "if __name__ == \"__main__\":\n",
    "    check_height()\n",
    "    check_weight()\n",
    "    check_temperature()\n"
   ]
  },
  {
   "cell_type": "markdown",
   "id": "e7b2196f-8088-4285-969e-79878da5d7ee",
   "metadata": {},
   "source": [
    "Задание 24\n",
    "а) Counter: Найти наиболее часто встречающийся элемент в списке.\r\n",
    "б) defaultdictr: Написать функцию, которая принимает на вход список строк и возвращает словарь, в котором каждая строка является ключом, а значение — количество раз, которое эта строка встречается в списке.\r\n",
    "в) enum: Создать перечисление для типов музыкальных инструментов (например, гитара, фортепиано, скрипка) и написать функцию, которая принимает на вход тип инструмента и выводит название его создателя.\r\n",
    "г) frozenset: Напишите программу, которая принимает на вход список кортежей и возвращает frozenset с уникальными элементами из всех кортежей.\r\n",
    "д) namedtuple: Написать функцию, которая принимает список объектов класса namedtuple с информацией о футбольных командах и возвращает список команд, у которых количество побед больше определенного значения.\r\n",
    "е) OrderedDict: Написать функцию, которая принимает на вход список кортежей, содержащих информацию о различных товарах (название, цена, количество) и возвращает упорядоченный словарь, в котором ключом является название товара, а значением — список кортежей с информацией о цене и количестве."
   ]
  },
  {
   "cell_type": "code",
   "execution_count": 16,
   "id": "63080275-a0c1-4e03-b500-19736e75eb49",
   "metadata": {},
   "outputs": [],
   "source": [
    "from collections import Counter\n",
    "\n",
    "def common_element(lst):\n",
    "    counter = Counter(lst)\n",
    "    return counter.most_common(1)[0]\n"
   ]
  },
  {
   "cell_type": "code",
   "execution_count": 17,
   "id": "73936062-181b-4d08-8202-3677c00e4df7",
   "metadata": {},
   "outputs": [],
   "source": [
    "from collections import defaultdict\n",
    "\n",
    "def count_strings(strings):\n",
    "    count_dict = defaultdict(int)\n",
    "    for string in strings:\n",
    "        count_dict[string] += 1\n",
    "    return dict(count_dict)"
   ]
  },
  {
   "cell_type": "code",
   "execution_count": 18,
   "id": "559dd3f8-f93a-4ada-ad43-6cbc84f357fb",
   "metadata": {},
   "outputs": [],
   "source": [
    "from enum import Enum\n",
    "\n",
    "class MusicalInstrument(Enum):\n",
    "    GUITAR = \"Гитара\"\n",
    "    PIANO = \"Фортепиано\"\n",
    "    VIOLIN = \"Скрипка\"\n",
    "\n",
    "def instrument_creator(instrument):\n",
    "    creators = {\n",
    "        MusicalInstrument.GUITAR: \"Леви Страус\",\n",
    "        MusicalInstrument.PIANO: \"Бартоломео Кристофори\",\n",
    "        MusicalInstrument.VIOLIN: \"Антонио Страдивари\"\n",
    "    }\n",
    "    return creators.get(instrument, \"Неизвестен\")"
   ]
  },
  {
   "cell_type": "code",
   "execution_count": 19,
   "id": "52302126-0231-4703-b1a3-640ede840dc7",
   "metadata": {},
   "outputs": [],
   "source": [
    "def unique_elements_from_tuples(tuples):\n",
    "    unique_elements = set()\n",
    "    for tup in tuples:\n",
    "        unique_elements.update(tup)\n",
    "    return frozenset(unique_elements)\n"
   ]
  },
  {
   "cell_type": "code",
   "execution_count": 20,
   "id": "3bce7604-0fc1-487d-ad3f-6b574c40f6a3",
   "metadata": {},
   "outputs": [],
   "source": [
    "from collections import namedtuple\n",
    "\n",
    "Team = namedtuple('Team', ['name', 'wins', 'losses'])\n",
    "\n",
    "def teams_with_more_wins(teams, min_wins):\n",
    "    return [team for team in teams if team.wins > min_wins]\n"
   ]
  },
  {
   "cell_type": "code",
   "execution_count": 21,
   "id": "3293672f-be53-43d7-b470-047d2665428f",
   "metadata": {},
   "outputs": [],
   "source": [
    "from collections import OrderedDict\n",
    "\n",
    "def ordered_product_info(products):\n",
    "    ordered_dict = OrderedDict()\n",
    "    for name, price, quantity in products:\n",
    "        if name in ordered_dict:\n",
    "            ordered_dict[name].append((price, quantity))\n",
    "        else:\n",
    "            ordered_dict[name] = [(price, quantity)]\n",
    "    return ordered_dict\n"
   ]
  },
  {
   "cell_type": "code",
   "execution_count": 23,
   "id": "df585dcb-a7ef-44f6-914a-f8fb65eb2f18",
   "metadata": {},
   "outputs": [
    {
     "name": "stdout",
     "output_type": "stream",
     "text": [
      "(1, 3)\n",
      "{'apple': 2, 'banana': 3, 'orange': 1}\n",
      "Леви Страус\n",
      "frozenset({1, 2, 3, 4, 5})\n",
      "[Team(name='Team A', wins=10, losses=5), Team(name='Team C', wins=12, losses=2)]\n",
      "apple: [(1.5, 10), (1.6, 15)]\n",
      "banana: [(0.5, 20)]\n"
     ]
    }
   ],
   "source": [
    "#а\n",
    "elements = [1, 2, 3, 2, 1, 1, 4, 5]\n",
    "print(common_element(elements))\n",
    "\n",
    "#б\n",
    "strings = [\"apple\", \"banana\", \"apple\", \"orange\", \"banana\", \"banana\"]\n",
    "print(count_strings(strings))\n",
    "\n",
    "#в\n",
    "print(instrument_creator(MusicalInstrument.GUITAR))\n",
    "\n",
    "#г\n",
    "tuples = [(1, 2), (2, 3), (4, 5)]\n",
    "print(unique_elements_from_tuples(tuples))\n",
    "\n",
    "#д\n",
    "teams = [Team('Team A', 10, 5), Team('Team B', 8, 7), Team('Team C', 12, 2)]\n",
    "print(teams_with_more_wins(teams, 9))\n",
    "\n",
    "#е\n",
    "products = [(\"apple\", 1.5, 10), (\"banana\", 0.5, 20), (\"apple\", 1.6, 15)]\n",
    "ordered_dict = ordered_product_info(products)\n",
    "for name, info in ordered_dict.items():\n",
    "    print(f\"{name}: {info}\")\n"
   ]
  },
  {
   "cell_type": "code",
   "execution_count": null,
   "id": "435a7ceb-58ae-47fb-954c-f8b3245ca806",
   "metadata": {},
   "outputs": [],
   "source": []
  }
 ],
 "metadata": {
  "kernelspec": {
   "display_name": "Python 3 (ipykernel)",
   "language": "python",
   "name": "python3"
  },
  "language_info": {
   "codemirror_mode": {
    "name": "ipython",
    "version": 3
   },
   "file_extension": ".py",
   "mimetype": "text/x-python",
   "name": "python",
   "nbconvert_exporter": "python",
   "pygments_lexer": "ipython3",
   "version": "3.11.7"
  }
 },
 "nbformat": 4,
 "nbformat_minor": 5
}
