{
 "cells": [
  {
   "cell_type": "markdown",
   "id": "1297c883-eeb7-41f0-b467-cfcf23217bf9",
   "metadata": {},
   "source": [
    "Задание 25\n",
    "Класс – параллелепипед. Методы – расчет площади поверхности и объема параллелепипеда. Поля – ребра  a ,  b ,  c , площадь и объем."
   ]
  },
  {
   "cell_type": "code",
   "execution_count": 2,
   "id": "dec9d894-c460-406e-9dc4-afc3c6cde3ea",
   "metadata": {},
   "outputs": [
    {
     "name": "stdout",
     "output_type": "stream",
     "text": [
      "Площадь поверхности параллелепипида = 22\n",
      "Объём параллелепипида = 6\n"
     ]
    }
   ],
   "source": [
    "class Parallelepiped:\n",
    "    def __init__(self, a, b, c):\n",
    "        self.a = a\n",
    "        self.b = b\n",
    "        self.c = c\n",
    "\n",
    "    def find_square(self):\n",
    "        square = 2 * (self.a*self.b + self.a*self.c + self.b*self.c)\n",
    "        print(f'Площадь поверхности параллелепипида = {square}')\n",
    "\n",
    "    def find_volume(self):\n",
    "        volume = self.a * self.b * self.c\n",
    "        print(f'Объём параллелепипида = {volume}')\n",
    "\n",
    "\n",
    "parallelepiped = Parallelepiped(1, 2, 3)\n",
    "parallelepiped.find_square()\n",
    "parallelepiped.find_volume()"
   ]
  },
  {
   "cell_type": "markdown",
   "id": "fedfbad4-296d-4652-9ccf-6d39759f1010",
   "metadata": {},
   "source": [
    "Задание 26\n",
    "Опишите класс Account. Для банковского счета задаются фамилия владельца, номер счёта, процент начисления за год и сумма в рублях. Включите в описание класса методы: пополнения счёта, снятия денег со счёта, перевода суммы в доллары и в евро, а также свойство, позволяющее начислить процент за заданное количество месяцев."
   ]
  },
  {
   "cell_type": "code",
   "execution_count": 8,
   "id": "a5ad5f4c-2a60-41b9-b3d0-e9c9fdfbf93a",
   "metadata": {},
   "outputs": [
    {
     "name": "stdout",
     "output_type": "stream",
     "text": [
      "На счету эквивалент 10.444955086693128 евро.\n",
      "Или 11.233430689732645 долларов.\n",
      "Через 2 месяца на счету будет 1322.5 рублей.\n"
     ]
    }
   ],
   "source": [
    "dollar_curs = 89.02\n",
    "euro_curs = 95.74\n",
    "\n",
    "\n",
    "class Account:\n",
    "    def __init__(self, surname, number, year_percent, amount_on_account):\n",
    "        self.surname = surname\n",
    "        self.number = number\n",
    "        self.year_percent = year_percent\n",
    "        self.amount_on_account = amount_on_account\n",
    "\n",
    "    def account_adding(self, adding_amount):\n",
    "        self.amount_on_account += adding_amount\n",
    "        print(f'Средства внесены, теперь на счету {self.amount_on_account} рублей.')\n",
    "\n",
    "    def account_withdrawal(self, withdrawal_amount):\n",
    "        assert withdrawal_amount < self.amount_on_account, \"Недостаточно средств на счету\"\n",
    "        self.amount_on_account -= withdrawal_amount\n",
    "        print(f'Средства сняты , теперь на счету {self.amount_on_account} рублей.')\n",
    "\n",
    "    def show_amount_in_euro_and_dollar(self):\n",
    "        global dollar_curs\n",
    "        global euro_curs\n",
    "        amount_in_euro = self.amount_on_account / euro_curs\n",
    "        amount_in_dollar = self.amount_on_account / dollar_curs\n",
    "        print(f'На счету эквивалент {amount_in_euro} евро.\\n'\n",
    "              f'Или {amount_in_dollar} долларов.')\n",
    "\n",
    "    def show_amount_with_percent(self, month=1):\n",
    "        n = 1\n",
    "        amount = self.amount_on_account\n",
    "        while n <= month:\n",
    "            amount *= (1+self.year_percent / 100)\n",
    "            n += 1\n",
    "        print(f'Через {month} месяца на счету будет {amount} рублей.')\n",
    "\n",
    "\n",
    "account = Account(\"Петров\", \"0001\", 15, 1000)\n",
    "account.show_amount_in_euro_and_dollar()\n",
    "account.show_amount_with_percent(2)\n"
   ]
  },
  {
   "cell_type": "markdown",
   "id": "e03900b9-8184-4855-bd50-11fb4f828b12",
   "metadata": {},
   "source": [
    "Задание 27\n",
    "Создайте класс ИГРУШКА с методами, позволяющими вывести на экран информацию о товаре, а также определить соответствие игрушки критерию поиска. Создайте дочерние классы КУБИК (цвет, цена, материал, размер ребра), МЯЧ (цена, цвет, диаметр, материал), МАШИНКА (название, цена, производитель, цвет) со своими методами вывода информации на экран и определения соответствия заданному цвету. Создайте список из  n  игрушек, выведите полную информацию из базы на экран, а также организуйте поиск игрушек заданного цвета."
   ]
  },
  {
   "cell_type": "code",
   "execution_count": 11,
   "id": "d45bfe91-3b5b-4606-b106-ff482c75934c",
   "metadata": {},
   "outputs": [
    {
     "name": "stdout",
     "output_type": "stream",
     "text": [
      "Название: Кубик1, Цвет: красный, Цена: 20, Материал: дерево\n",
      "Размер ребра кубика: 6\n",
      "Игрушка зелёная? False\n",
      "Название: Кубик2, Цвет: зелёный, Цена: 18, Материал: пластмасса\n",
      "Размер ребра кубика: 5\n",
      "Игрушка зелёная? True\n",
      "Название: Мяч1, Цвет: зелёный, Цена: 124, Материал: резина\n",
      "Диаметр мяча: 21\n",
      "Игрушка зелёная? True\n",
      "Название: Мяч2, Цвет: синий, Цена: 150, Материал: резина\n",
      "Диаметр мяча: 30\n",
      "Игрушка зелёная? False\n",
      "Название: Машинка1, Цвет: зелёный, Цена: 120, Материал: пластмасса\n",
      "Производитель машинки: Завод1\n",
      "Игрушка зелёная? True\n",
      "Название: Машинка2, Цвет: красный, Цена: 200, Материал: металл\n",
      "Производитель машинки: Завод2\n",
      "Игрушка зелёная? False\n"
     ]
    }
   ],
   "source": [
    "class Toy:\n",
    "    def __init__(self, name, color, price, material):\n",
    "        self.name = name\n",
    "        self.color = color\n",
    "        self.price = price\n",
    "        self.material = material\n",
    "\n",
    "    def show_info(self):\n",
    "        print(f'Название: {self.name}, Цвет: {self.color}, Цена: {self.price}, Материал: {self.material}')\n",
    "\n",
    "    def check_color(self, target_color):\n",
    "        return self.color == target_color\n",
    "\n",
    "\n",
    "class Cube(Toy):\n",
    "    def __init__(self, name, color, price, material, size):\n",
    "        super().__init__(name, color, price, material)\n",
    "        self.size = size\n",
    "\n",
    "    def show_cube_info(self):\n",
    "        print(f'Размер ребра кубика: {self.size}')\n",
    "\n",
    "\n",
    "class Ball(Toy):\n",
    "    def __init__(self, name, color, price, material, diameter):\n",
    "        super().__init__(name, color, price, material)\n",
    "        self.diameter = diameter\n",
    "\n",
    "    def show_ball_info(self):\n",
    "        print(f'Диаметр мяча: {self.diameter}')\n",
    "\n",
    "\n",
    "class Car(Toy):\n",
    "    def __init__(self, name, color, price, material, factory):\n",
    "        super().__init__(name, color, price, material)\n",
    "        self.factory = factory\n",
    "\n",
    "    def show_car_info(self):\n",
    "        print(f'Производитель машинки: {self.factory}')\n",
    "\n",
    "\n",
    "toy_list = [Cube(\"Кубик1\", \"красный\", 20, \"дерево\", 6),\n",
    "            Cube(\"Кубик2\", \"зелёный\", 18, \"пластмасса\", 5),\n",
    "            Ball(\"Мяч1\", \"зелёный\", 124, \"резина\", 21),\n",
    "            Ball(\"Мяч2\", \"синий\", 150, \"резина\", 30),\n",
    "            Car(\"Машинка1\", \"зелёный\", 120, \"пластмасса\", \"Завод1\"),\n",
    "            Car(\"Машинка2\", \"красный\", 200, \"металл\", \"Завод2\")]\n",
    "for i in toy_list:\n",
    "    i.show_info()\n",
    "    if isinstance(i, Cube):\n",
    "        i.show_cube_info()\n",
    "    elif isinstance(i, Ball):\n",
    "        i.show_ball_info()\n",
    "    elif isinstance(i, Car):\n",
    "        i.show_car_info()\n",
    "    print(f'Игрушка зелёная? {i.check_color(\"зелёный\")}')"
   ]
  },
  {
   "cell_type": "code",
   "execution_count": null,
   "id": "c93eefe6-fddc-4fe9-bb85-e609b2030116",
   "metadata": {},
   "outputs": [],
   "source": []
  }
 ],
 "metadata": {
  "kernelspec": {
   "display_name": "Python 3 (ipykernel)",
   "language": "python",
   "name": "python3"
  },
  "language_info": {
   "codemirror_mode": {
    "name": "ipython",
    "version": 3
   },
   "file_extension": ".py",
   "mimetype": "text/x-python",
   "name": "python",
   "nbconvert_exporter": "python",
   "pygments_lexer": "ipython3",
   "version": "3.11.7"
  }
 },
 "nbformat": 4,
 "nbformat_minor": 5
}
