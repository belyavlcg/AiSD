{
 "cells": [
  {
   "cell_type": "markdown",
   "id": "7a3b5e04-277b-45ff-b089-a4f15ec768b7",
   "metadata": {},
   "source": [
    "Задание 7\n",
    "Дан список. Выбрать из списка все числа кратные 3 и упорядочить их по возрастанию."
   ]
  },
  {
   "cell_type": "code",
   "execution_count": 1,
   "id": "05c8c29e-d4ff-4db6-871e-babfeab7314a",
   "metadata": {},
   "outputs": [
    {
     "data": {
      "text/plain": [
       "[3, 9, 15, 24, 33, 42]"
      ]
     },
     "execution_count": 1,
     "metadata": {},
     "output_type": "execute_result"
    }
   ],
   "source": [
    "nums = [10, 15, 23, 7, 33, 42, 8, 3, 1, 9, 24, 5]\n",
    "nums3 = [num for num in nums if num % 3 == 0]\n",
    "nums3_sorted = sorted(nums3)\n",
    "nums3_sorted"
   ]
  },
  {
   "cell_type": "markdown",
   "id": "21b1da27-c1ef-4174-ad37-6317fa5b8d2d",
   "metadata": {},
   "source": [
    "Задание 8\n",
    "Дана матрица размера  M×N  ( M  и  N  — четные числа). Поменять местами левую верхнюю и правую нижнюю четверти матрицы."
   ]
  },
  {
   "cell_type": "code",
   "execution_count": 1,
   "id": "77f61c4b-9787-4203-a7cc-1e3284dc32cd",
   "metadata": {},
   "outputs": [
    {
     "data": {
      "text/plain": [
       "array([[11, 12,  3,  4],\n",
       "       [15, 16,  7,  8],\n",
       "       [ 9, 10, 11, 12],\n",
       "       [13, 14, 15, 16]])"
      ]
     },
     "execution_count": 1,
     "metadata": {},
     "output_type": "execute_result"
    }
   ],
   "source": [
    "import numpy as np\n",
    "\n",
    "M, N = 4, 4 \n",
    "matrix = np.array([[1, 2, 3, 4],\n",
    "                   [5, 6, 7, 8],\n",
    "                   [9, 10, 11, 12],\n",
    "                   [13, 14, 15, 16]])\n",
    "\n",
    "mid_M = M // 2\n",
    "mid_N = N // 2\n",
    "\n",
    "top_left = matrix[:mid_M, :mid_N]\n",
    "bottom_right = matrix[mid_M:, mid_N:]\n",
    "\n",
    "matrix[:mid_M, :mid_N] = bottom_right\n",
    "matrix[mid_M:, mid_N:] = top_left\n",
    "\n",
    "matrix\n"
   ]
  },
  {
   "cell_type": "markdown",
   "id": "d73eba63-faf8-4b98-b336-d5434947cdaf",
   "metadata": {},
   "source": [
    "Задание 9\n",
    "Дана строка, состоящая из русских слов, разделенных пробелами (одним или несколькими). Найти длину самого длинного слова."
   ]
  },
  {
   "cell_type": "code",
   "execution_count": 5,
   "id": "4d0004e6-9d3c-4c97-b612-1a5e7ff2d3fc",
   "metadata": {},
   "outputs": [
    {
     "data": {
      "text/plain": [
       "7"
      ]
     },
     "execution_count": 5,
     "metadata": {},
     "output_type": "execute_result"
    }
   ],
   "source": [
    "def longest_word(str):\n",
    "    words = str.split()\n",
    "    longest = max(len(word) for word in words)\n",
    "    return longest\n",
    "\n",
    "\n",
    "longest_word(\"а аб абв абвн аылвлат ты ыь\")\n",
    "\n"
   ]
  },
  {
   "cell_type": "markdown",
   "id": "9d32cec0-cd56-4737-a1b9-b8867df1cd07",
   "metadata": {},
   "source": [
    "Задание 10\n",
    "Переверните заданную строку в обратном порядке, если ее длина кратна четырем."
   ]
  },
  {
   "cell_type": "code",
   "execution_count": 6,
   "id": "d6c3d5d6-fb79-4acf-935a-457a93eb1c40",
   "metadata": {},
   "outputs": [
    {
     "data": {
      "text/plain": [
       "'hgfedcba'"
      ]
     },
     "execution_count": 6,
     "metadata": {},
     "output_type": "execute_result"
    }
   ],
   "source": [
    "def rev(s):\n",
    "    if len(s) % 4 == 0:\n",
    "        return s[::-1]\n",
    "    else:\n",
    "        return s\n",
    "\n",
    "rev(\"abcdefgh\")\n",
    "\n"
   ]
  },
  {
   "cell_type": "markdown",
   "id": "51fdcdc2-8dbe-4fae-9e88-8f59a0177d27",
   "metadata": {},
   "source": [
    "Задание 11\n",
    "Создайте программу, которая выполняет следующие действия:\r\n",
    "а) Вычисляет сумму всех значений в заданном словаре. Пример: {'a':1, 'b':2, 'c':3, 'd':4} → 10.\r\n",
    "б) Преобразует заданный список в словарь, где каждый элемент списка становится ключом вложенного словаря. Пример: ['a', 'b', 'c'] → {'a': {}, 'b': {}, 'c': {}}.\r\n",
    "в) Проверяет, являются ли все значения в словаре одинаковыми. Пример: {'a':1, 'b':1, 'c':1} → True."
   ]
  },
  {
   "cell_type": "code",
   "execution_count": 8,
   "id": "ce6ba0e9-a553-42e8-a584-e2dd6faa130c",
   "metadata": {},
   "outputs": [
    {
     "name": "stdout",
     "output_type": "stream",
     "text": [
      "Сумма значений: 10\n",
      "Словарь из списка: {'a': {}, 'b': {}, 'c': {}}\n",
      "Все значения одинаковы: True\n",
      "Все значения одинаковы: False\n"
     ]
    }
   ],
   "source": [
    "def sum_values(d):\n",
    "    return sum(d.values())\n",
    "\n",
    "def list_to_nested_dict(lst):\n",
    "    return {key: {} for key in lst}\n",
    "\n",
    "def all_values_equal(d):\n",
    "    return len(set(d.values())) == 1\n",
    "\n",
    "# а)\n",
    "ex = {'a': 1, 'b': 2, 'c': 3, 'd': 4}\n",
    "print(\"Сумма значений:\", sum_values(ex))\n",
    "\n",
    "# б)\n",
    "ex = ['a', 'b', 'c']\n",
    "print(\"Словарь из списка:\", list_to_nested_dict(ex))\n",
    "\n",
    "# в)\n",
    "ex1 = {'a': 1, 'b': 1, 'c': 1}\n",
    "ex2 = {'a': 1, 'b': 2, 'c': 1}\n",
    "print(\"Все значения одинаковы:\", all_values_equal(ex1))\n",
    "print(\"Все значения одинаковы:\", all_values_equal(ex2)) \n"
   ]
  },
  {
   "cell_type": "markdown",
   "id": "24eda5f8-37ae-4070-b97a-b1ebb3a1801e",
   "metadata": {},
   "source": [
    "Задание 12\n",
    "Разработайте программу, которая:\r\n",
    "а) проверяет, содержит ли кортеж элемент, заданный пользователем, и выводит количество его вхождений;\r\n",
    "б) преобразует список строк, введенных пользователем, в кортеж, удаляя все повторяющиеся элементы."
   ]
  },
  {
   "cell_type": "code",
   "execution_count": 11,
   "id": "ecbda524-3217-4cad-8db0-666163347b9d",
   "metadata": {},
   "outputs": [
    {
     "name": "stdin",
     "output_type": "stream",
     "text": [
      "Введите элемент для поиска в кортеже:  apple\n"
     ]
    },
    {
     "name": "stdout",
     "output_type": "stream",
     "text": [
      "Элемент 'apple' найден 2 раз(а) в кортеже.\n"
     ]
    }
   ],
   "source": [
    "def check(elements, item):\n",
    "    count = elements.count(item)\n",
    "    if count > 0:\n",
    "        print(f\"Элемент '{item}' найден {count} раз(а) в кортеже.\")\n",
    "    else:\n",
    "        print(f\"Элемент '{item}' не найден в кортеже.\")\n",
    "\n",
    "tuple = ('apple', 'banana', 'cherry', 'apple', 'mellon')\n",
    "\n",
    "item = input(\"Введите элемент для поиска в кортеже: \")\n",
    "check(tuple, item)"
   ]
  },
  {
   "cell_type": "markdown",
   "id": "65a9f168-15b0-42b2-90ae-2510a6455767",
   "metadata": {},
   "source": [
    "Задание 13\n",
    "Примените структуру данных множества для решения следующих задач:\r\n",
    "а) Используя множества, вывести все уникальные цифры из десятичной записи заданного числа в возрастающем порядке.\r\n",
    "б) Даны два множества  A  и  B , содержащих некоторые элементы. Необходимо определить, является ли множество  A  строгим подмножеством множества  B  (то есть все элементы множества  A  также присутствуют в множестве  B , но множество  B  содержит дополнительные элементы)."
   ]
  },
  {
   "cell_type": "code",
   "execution_count": 14,
   "id": "a05364bd-53a2-48a9-90e1-2b5d3a78e03a",
   "metadata": {},
   "outputs": [
    {
     "name": "stdout",
     "output_type": "stream",
     "text": [
      "['0', '1', '2', '3', '5', '6', '7', '8', '9']\n"
     ]
    },
    {
     "data": {
      "text/plain": [
       "True"
      ]
     },
     "execution_count": 14,
     "metadata": {},
     "output_type": "execute_result"
    }
   ],
   "source": [
    "def unique_digits(number):\n",
    "    digits = set(str(number))\n",
    "    sorted_digits = sorted(digits)\n",
    "    return sorted_digits\n",
    "\n",
    "def is_subset(set_a, set_b):\n",
    "    return set_a < set_b\n",
    "\n",
    "#a\n",
    "print(unique_digits(12305678901235))\n",
    "#b\n",
    "set_a = {1, 2, 3}\n",
    "set_b = {1, 2, 3, 4, 5}\n",
    "is_subset(set_a, set_b)\n",
    "\n",
    "\n",
    "set_c = {1, 2, 3, 4}\n",
    "is_subset(set_a, set_c)\n",
    "\n"
   ]
  },
  {
   "cell_type": "code",
   "execution_count": null,
   "id": "72fac1e4-3d43-4be6-ab9e-161d2433ed3a",
   "metadata": {},
   "outputs": [],
   "source": []
  }
 ],
 "metadata": {
  "kernelspec": {
   "display_name": "Python 3 (ipykernel)",
   "language": "python",
   "name": "python3"
  },
  "language_info": {
   "codemirror_mode": {
    "name": "ipython",
    "version": 3
   },
   "file_extension": ".py",
   "mimetype": "text/x-python",
   "name": "python",
   "nbconvert_exporter": "python",
   "pygments_lexer": "ipython3",
   "version": "3.11.7"
  }
 },
 "nbformat": 4,
 "nbformat_minor": 5
}
