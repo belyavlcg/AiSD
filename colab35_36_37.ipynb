{
 "cells": [
  {
   "cell_type": "markdown",
   "id": "7c044be9-1b78-41d6-bc4a-d520224cc01a",
   "metadata": {},
   "source": [
    "Создайте двусвязный список для хранения информации о заказах в интернетмагазине. Каждый элемент списка должен содержать номер заказа, дату создания, список товаров, их количество и стоимость, а также информацию о доставке и оплате."
   ]
  },
  {
   "cell_type": "code",
   "execution_count": 4,
   "id": "13df4049-9418-49df-910f-fe64ade21323",
   "metadata": {},
   "outputs": [
    {
     "name": "stdout",
     "output_type": "stream",
     "text": [
      "Номер заказа: 0001\n",
      "Дата создания: 05.04.2024\n",
      "Список товаров: ['позиция1', 'позиция2', 'позиция3']\n",
      "Информация о доставке: доставка\n",
      "Информация об оплате: 1457\n",
      "-------------------------\n",
      "Номер заказа: 0002\n",
      "Дата создания: 06.04.2024\n",
      "Список товаров: ['позиция3', 'позиция4']\n",
      "Информация о доставке: доставка\n",
      "Информация об оплате: 923\n",
      "-------------------------\n",
      "Номер заказа: 0003\n",
      "Дата создания: 07.04.2024\n",
      "Список товаров: ['позиция5']\n",
      "Информация о доставке: самовывоз\n",
      "Информация об оплате: 500\n",
      "-------------------------\n"
     ]
    }
   ],
   "source": [
    "class Order:\n",
    "    def __init__(self, number, creation_date, product_list, delivery_inf, pay_inf):\n",
    "        self.number = number\n",
    "        self.creation_date = creation_date\n",
    "        self.product_list = product_list\n",
    "        self.delivery_inf = delivery_inf\n",
    "        self.pay_inf = pay_inf\n",
    "        self.prev = None\n",
    "        self.next = None\n",
    "\n",
    "\n",
    "order1 = Order(\"0001\", \"05.04.2024\", [\"позиция1\", \"позиция2\", \"позиция3\"], \"доставка\", 1457)\n",
    "order2 = Order(\"0002\", \"06.04.2024\", [\"позиция3\", \"позиция4\"], \"доставка\", 923)\n",
    "order3 = Order(\"0003\", \"07.04.2024\", [\"позиция5\"], \"самовывоз\", 500)\n",
    "orders = [order1, order2, order3]\n",
    "\n",
    "for i in range(len(orders)-1):\n",
    "    orders[i].next = orders[i+1]\n",
    "for i in range(1, len(orders)):\n",
    "    orders[i].prev = orders[i-1]\n",
    "\n",
    "order_now = orders[0]\n",
    "while order_now:\n",
    "    print(f\"Номер заказа: {order_now.number}\")\n",
    "    print(f\"Дата создания: {order_now.creation_date}\")\n",
    "    print(f\"Список товаров: {order_now.product_list}\")\n",
    "    print(f\"Информация о доставке: {order_now.delivery_inf}\")\n",
    "    print(f\"Информация об оплате: {order_now.pay_inf}\")\n",
    "    print(\"-------------------------\")\n",
    "    order_now = order_now.next"
   ]
  },
  {
   "cell_type": "markdown",
   "id": "3efc9889-2a15-4e9a-b3ae-38e9bea76a20",
   "metadata": {},
   "source": [
    "Задание 36\n",
    "Реализовать функцию, которая разделяет двусвязный список на два списка, один из которых содержит все элементы, меньшие заданного значения, а другой — все элементы, большие или равные заданному значению."
   ]
  },
  {
   "cell_type": "code",
   "execution_count": 6,
   "id": "787bb1cc-72b9-47bf-b57b-7417396e2a4e",
   "metadata": {},
   "outputs": [
    {
     "name": "stdout",
     "output_type": "stream",
     "text": [
      "1 <> 2 <> 3 <> 4 <> 5 <> 6\n"
     ]
    }
   ],
   "source": [
    "class Node():\n",
    "    def __init__(self, data):\n",
    "        self.data = data\n",
    "        self.prev = None\n",
    "        self.next = None\n",
    "\n",
    "class DoublyLinkedList:\n",
    "    def __init__(self):\n",
    "        self.head = None\n",
    "        self.tail = None\n",
    "        \n",
    "    def add_node(self, data):\n",
    "        new_node = Node(data)\n",
    "        if not self.head:\n",
    "            self.head = new_node\n",
    "            self.tail = new_node\n",
    "        else:\n",
    "            new_node.prev = self.tail\n",
    "            self.tail.next = new_node\n",
    "            self.tail = new_node\n",
    "            \n",
    "    def __str__(self): # магический метод для вывода информации\n",
    "        now = self.head\n",
    "        dllist_str = ''\n",
    "        while now:\n",
    "            dllist_str += ' <> ' + str(now.data)\n",
    "            now = now.next\n",
    "        return dllist_str.lstrip(' <> ')\n",
    "\n",
    "\n",
    "DLL = DoublyLinkedList()\n",
    "DLL.add_node(1)\n",
    "DLL.add_node(2)\n",
    "DLL.add_node(3)\n",
    "DLL.add_node(4)\n",
    "DLL.add_node(5)\n",
    "DLL.add_node(6)\n",
    "print(DLL)"
   ]
  },
  {
   "cell_type": "code",
   "execution_count": 12,
   "id": "09996bc4-b01b-45fc-b747-10d5054bb61d",
   "metadata": {},
   "outputs": [
    {
     "name": "stdout",
     "output_type": "stream",
     "text": [
      "1 <> 2 <> 3\n",
      "4 <> 5 <> 6\n"
     ]
    }
   ],
   "source": [
    "dll1 = DoublyLinkedList()\n",
    "dll2 = DoublyLinkedList()\n",
    "\n",
    "def separation(head, value):\n",
    "    current = head\n",
    "    while current:\n",
    "        if current.data < value:\n",
    "            dll1.add_node(current.data)\n",
    "        elif current.data >= value:\n",
    "            dll2.add_node(current.data)\n",
    "        current = current.next\n",
    "        \n",
    "separation(DLL.head, 4)\n",
    "print(dll1)\n",
    "print(dll2)"
   ]
  },
  {
   "cell_type": "markdown",
   "id": "c3c704c3-a5e0-4ad0-9592-b678d3c2b88b",
   "metadata": {},
   "source": [
    "Задание 37\n",
    "Реализовать функцию, которая проверяет, содержится ли заданный элемент в циклическом двусвязном списке."
   ]
  },
  {
   "cell_type": "code",
   "execution_count": null,
   "id": "de41f7ac-7bfc-472e-9a20-76b122720197",
   "metadata": {},
   "outputs": [],
   "source": []
  }
 ],
 "metadata": {
  "kernelspec": {
   "display_name": "Python 3 (ipykernel)",
   "language": "python",
   "name": "python3"
  },
  "language_info": {
   "codemirror_mode": {
    "name": "ipython",
    "version": 3
   },
   "file_extension": ".py",
   "mimetype": "text/x-python",
   "name": "python",
   "nbconvert_exporter": "python",
   "pygments_lexer": "ipython3",
   "version": "3.11.7"
  }
 },
 "nbformat": 4,
 "nbformat_minor": 5
}
