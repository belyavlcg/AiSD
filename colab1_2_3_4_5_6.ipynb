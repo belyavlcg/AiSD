{
 "cells": [
  {
   "cell_type": "markdown",
   "id": "0a776ed8-9501-4925-83fa-8bb5e8cf8faf",
   "metadata": {},
   "source": [
    "Задание 1"
   ]
  },
  {
   "cell_type": "code",
   "execution_count": 7,
   "id": "bb8803cc-8ec5-4393-ba84-3e5945e6454a",
   "metadata": {},
   "outputs": [
    {
     "name": "stdin",
     "output_type": "stream",
     "text": [
      "Введите значения x:  10\n",
      "Введите значения a:  1\n"
     ]
    },
    {
     "data": {
      "text/plain": [
       "1.0112953818133308"
      ]
     },
     "execution_count": 7,
     "metadata": {},
     "output_type": "execute_result"
    }
   ],
   "source": [
    "from math import cos\n",
    "\n",
    "def func_count(x, a):\n",
    "    return (a / x*x + 1) - cos(2*x - 1)\n",
    "x = int(input(\"Введите значения x: \"))\n",
    "a = int(input(\"Введите значения a: \"))\n",
    "func_count(x, a)"
   ]
  },
  {
   "cell_type": "markdown",
   "id": "c576b7f7-c3ff-4812-adcf-f070fc1ba1f0",
   "metadata": {},
   "source": [
    "Задание 2"
   ]
  },
  {
   "cell_type": "code",
   "execution_count": 9,
   "id": "76a56291-43ef-4217-9dbe-914af5b6a7d9",
   "metadata": {},
   "outputs": [
    {
     "data": {
      "text/plain": [
       "(1.0, 1.0)"
      ]
     },
     "execution_count": 9,
     "metadata": {},
     "output_type": "execute_result"
    }
   ],
   "source": [
    "def linear_system(A1, B1, C1, A2, B2, C2):\n",
    "    D = A1 * B2 - A2 * B1\n",
    "    if D == 0:\n",
    "        return \"Система не имеет единственного решения\"\n",
    "    x = (C1 * B2 - C2 * B1) / D\n",
    "    y = (A1 * C2 - A2 * C1) / D\n",
    "    return x, y\n",
    "\n",
    "A1, B1, C1 = 2, 3, 5\n",
    "A2, B2, C2 = 1, 2, 3\n",
    "\n",
    "linear_system(A1, B1, C1, A2, B2, C2)"
   ]
  },
  {
   "cell_type": "markdown",
   "id": "2dd70007-7fdb-41e2-b17e-894e83034674",
   "metadata": {},
   "source": [
    "Задание 3"
   ]
  },
  {
   "cell_type": "code",
   "execution_count": null,
   "id": "3848bae6-2566-48d3-83f4-6e41180f6f5b",
   "metadata": {},
   "outputs": [],
   "source": [
    "def func_count(x, a):\n",
    "    if x > 1:\n",
    "        y = 2 * a * x**2 - 1\n",
    "    else:\n",
    "        y = 1 / a\n",
    "    return y\n",
    "    \n",
    "x = float(input(\"Введите значение x: \"))\n",
    "a = float(input(\"Введите значение a: \"))\n",
    "\n",
    "result = func_count(x, a)\n",
    "print(f\"Значение функции y: {result}\")\n"
   ]
  },
  {
   "cell_type": "markdown",
   "id": "99f2a583-f0f1-4a93-8fdb-0ceb8bc2b142",
   "metadata": {},
   "source": [
    "Задание 4"
   ]
  },
  {
   "cell_type": "code",
   "execution_count": 14,
   "id": "57040c26-4d4f-4a59-919e-0787c42496a8",
   "metadata": {},
   "outputs": [
    {
     "name": "stdin",
     "output_type": "stream",
     "text": [
      " 10\n"
     ]
    },
    {
     "name": "stdout",
     "output_type": "stream",
     "text": [
      "Цена 1.2 кг. конфет - 30.0 рублей\n",
      "Цена 1.4 кг. конфет - 35.0 рублей\n",
      "Цена 1.6 кг. конфет - 40.0 рублей\n",
      "Цена 1.8 кг. конфет - 45.0 рублей\n",
      "Цена 2.0 кг. конфет - 50.0 рублей\n"
     ]
    }
   ],
   "source": [
    "x1 = float(input())\n",
    "for i in [1.2, 1.4, 1.6, 1.8, 2.0]:\n",
    "    print(f'Цена {i} кг. конфет - {x*i} рублей')"
   ]
  },
  {
   "cell_type": "markdown",
   "id": "939ea37b-09a6-4c4f-b6ff-ed53d5ca09e7",
   "metadata": {},
   "source": [
    "Задание 5"
   ]
  },
  {
   "cell_type": "code",
   "execution_count": 5,
   "id": "06b33dec-7d26-4f73-acc9-4dcb0bfa907f",
   "metadata": {},
   "outputs": [
    {
     "name": "stdin",
     "output_type": "stream",
     "text": [
      " 12\n"
     ]
    },
    {
     "data": {
      "text/plain": [
       "1.7182818282861687"
      ]
     },
     "execution_count": 5,
     "metadata": {},
     "output_type": "execute_result"
    }
   ],
   "source": [
    "from math import factorial\n",
    "n = int(input())\n",
    "sum = 0\n",
    "for i in range(1, n+1):\n",
    "    sum += (1 / factorial(i))\n",
    "sum"
   ]
  },
  {
   "cell_type": "markdown",
   "id": "9124257f-b3fe-4e8e-b2e3-bdab195cc64d",
   "metadata": {},
   "source": [
    "Задание 6\n",
    "Дан список. Обнулить все нечетные числа, содержащиеся в списке. Если нечетные числа в списке отсутствуют, то оставить список без изменений."
   ]
  },
  {
   "cell_type": "code",
   "execution_count": 6,
   "id": "5f4b9443-31cd-45f7-bedb-f6ea239de73c",
   "metadata": {},
   "outputs": [
    {
     "data": {
      "text/plain": [
       "[0,\n",
       " 0,\n",
       " 2,\n",
       " 0,\n",
       " 4,\n",
       " 0,\n",
       " 6,\n",
       " 0,\n",
       " 8,\n",
       " 0,\n",
       " 10,\n",
       " 0,\n",
       " 12,\n",
       " 0,\n",
       " 14,\n",
       " 0,\n",
       " 16,\n",
       " 0,\n",
       " 18,\n",
       " 0,\n",
       " 20,\n",
       " 0,\n",
       " 22,\n",
       " 0,\n",
       " 24,\n",
       " 0,\n",
       " 26,\n",
       " 0,\n",
       " 28,\n",
       " 0,\n",
       " 30,\n",
       " 0,\n",
       " 32,\n",
       " 0,\n",
       " 34,\n",
       " 0,\n",
       " 36,\n",
       " 0,\n",
       " 38,\n",
       " 0,\n",
       " 40,\n",
       " 0,\n",
       " 42,\n",
       " 0,\n",
       " 44,\n",
       " 0,\n",
       " 46,\n",
       " 0,\n",
       " 48,\n",
       " 0,\n",
       " 50,\n",
       " 0,\n",
       " 52,\n",
       " 0,\n",
       " 54,\n",
       " 0,\n",
       " 56,\n",
       " 0,\n",
       " 58,\n",
       " 0,\n",
       " 60,\n",
       " 0,\n",
       " 62,\n",
       " 0,\n",
       " 64,\n",
       " 0,\n",
       " 66,\n",
       " 0,\n",
       " 68,\n",
       " 0,\n",
       " 70,\n",
       " 0,\n",
       " 72,\n",
       " 0,\n",
       " 74,\n",
       " 0,\n",
       " 76,\n",
       " 0,\n",
       " 78,\n",
       " 0,\n",
       " 80,\n",
       " 0,\n",
       " 82,\n",
       " 0,\n",
       " 84,\n",
       " 0,\n",
       " 86,\n",
       " 0,\n",
       " 88,\n",
       " 0,\n",
       " 90,\n",
       " 0,\n",
       " 92,\n",
       " 0,\n",
       " 94,\n",
       " 0,\n",
       " 96,\n",
       " 0,\n",
       " 98,\n",
       " 0]"
      ]
     },
     "execution_count": 6,
     "metadata": {},
     "output_type": "execute_result"
    }
   ],
   "source": [
    "list = [i for i in range(100)]\n",
    "for i in list:\n",
    "    if i % 2 != 0:\n",
    "        list[i] = 0\n",
    "list"
   ]
  },
  {
   "cell_type": "code",
   "execution_count": null,
   "id": "abafaa3f-eb09-4f5f-a60b-42a432642f6e",
   "metadata": {},
   "outputs": [],
   "source": []
  }
 ],
 "metadata": {
  "kernelspec": {
   "display_name": "Python 3 (ipykernel)",
   "language": "python",
   "name": "python3"
  },
  "language_info": {
   "codemirror_mode": {
    "name": "ipython",
    "version": 3
   },
   "file_extension": ".py",
   "mimetype": "text/x-python",
   "name": "python",
   "nbconvert_exporter": "python",
   "pygments_lexer": "ipython3",
   "version": "3.11.7"
  }
 },
 "nbformat": 4,
 "nbformat_minor": 5
}
