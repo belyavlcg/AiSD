{
 "cells": [
  {
   "cell_type": "markdown",
   "id": "e2393b8b-5f23-4eac-a38c-f70653b738b1",
   "metadata": {},
   "source": [
    "Задание 30\n",
    "а) Дан массив  A  размера  N . Сформировать новый массив B того же размера по следующему правилу: элемент BK равен сумме элементов массива  A  с номерами от  K  до  N ."
   ]
  },
  {
   "cell_type": "code",
   "execution_count": 2,
   "id": "36869beb-0fb8-4bbf-89e4-08c04e7eec9f",
   "metadata": {},
   "outputs": [
    {
     "name": "stdout",
     "output_type": "stream",
     "text": [
      "array('i', [410, 400, 380, 350, 300, 240, 170, 90])\n"
     ]
    }
   ],
   "source": [
    "import array as arr \n",
    "A = arr.array('i',[10, 20, 30, 50, 60, 70, 80, 90])\n",
    "B = arr.array('i', [])\n",
    "for i in range(8):\n",
    "    sum = 0\n",
    "    for k in range(i, 8):\n",
    "        sum += A[k]\n",
    "    B.append(sum)\n",
    "print(B)"
   ]
  },
  {
   "cell_type": "markdown",
   "id": "2c15e7a7-b95d-49b3-bed4-2a39692cc0a0",
   "metadata": {},
   "source": [
    "б) Дана матрица размера  M×N . Упорядочить ее строки так, чтобы их первые элементы образовывали возрастающую последовательность."
   ]
  },
  {
   "cell_type": "code",
   "execution_count": 5,
   "id": "5a2ed028-8370-4850-822c-38949ac90c35",
   "metadata": {},
   "outputs": [
    {
     "name": "stdout",
     "output_type": "stream",
     "text": [
      "[3, 2, 1]\n",
      "[6, 5, 4]\n",
      "[9, 8, 7]\n"
     ]
    }
   ],
   "source": [
    "matrix = [[9, 8, 7],\n",
    "          [6, 5, 4],\n",
    "          [3, 2, 1]\n",
    "         ]\n",
    "sorted_first = []\n",
    "for i in matrix:\n",
    "    sorted_first.append(i[0])\n",
    "sorted_first.sort()\n",
    "for i in sorted_first:\n",
    "    for j in matrix:\n",
    "        if i in j:\n",
    "            print(j)"
   ]
  },
  {
   "cell_type": "markdown",
   "id": "d2dc04d8-a1c8-48e6-b441-4d0b67e8f164",
   "metadata": {},
   "source": [
    "Дан стек. Необходимо проверить, является ли его содержимое последовательностью арифметической прогрессии."
   ]
  },
  {
   "cell_type": "code",
   "execution_count": 6,
   "id": "a15f13ce-6508-48e5-967e-cc3168d654c8",
   "metadata": {},
   "outputs": [
    {
     "name": "stdin",
     "output_type": "stream",
     "text": [
      "Введите количество элементов в стеке:  6\n",
      "Введите значение:  2\n",
      "Введите значение:  4\n",
      "Введите значение:  6\n",
      "Введите значение:  8\n",
      "Введите значение:  10\n",
      "Введите значение:  12\n"
     ]
    },
    {
     "data": {
      "text/plain": [
       "True"
      ]
     },
     "execution_count": 6,
     "metadata": {},
     "output_type": "execute_result"
    }
   ],
   "source": [
    "from collections import deque\n",
    "\n",
    "class Stack(deque):\n",
    "    def push(self, a):\n",
    "        self.append(a)\n",
    "\n",
    "# Заполнение стека\n",
    "stack_len = int(input('Введите количество элементов в стеке: '))\n",
    "stack = Stack()\n",
    "for i in range(stack_len):\n",
    "    next = int(input('Введите значение: '))\n",
    "    stack.push(next)\n",
    "\n",
    "\n",
    "def checking_for_arithmetic_progression(stack, stack_len):\n",
    "    for i in range(stack_len-2):\n",
    "        if stack[i+1] - stack[i] != stack[i+2] - stack[i+1]:\n",
    "            return False\n",
    "    return True\n",
    "\n",
    "\n",
    "checking_for_arithmetic_progression(stack, stack_len)\n"
   ]
  },
  {
   "cell_type": "code",
   "execution_count": null,
   "id": "5a1ca9a7-f5f3-4d81-b9a5-eeeb62921f21",
   "metadata": {},
   "outputs": [],
   "source": []
  }
 ],
 "metadata": {
  "kernelspec": {
   "display_name": "Python 3 (ipykernel)",
   "language": "python",
   "name": "python3"
  },
  "language_info": {
   "codemirror_mode": {
    "name": "ipython",
    "version": 3
   },
   "file_extension": ".py",
   "mimetype": "text/x-python",
   "name": "python",
   "nbconvert_exporter": "python",
   "pygments_lexer": "ipython3",
   "version": "3.11.7"
  }
 },
 "nbformat": 4,
 "nbformat_minor": 5
}
