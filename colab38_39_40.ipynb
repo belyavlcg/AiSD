{
 "cells": [
  {
   "cell_type": "markdown",
   "id": "85222467-8c80-48a9-aebf-aadc1278857e",
   "metadata": {},
   "source": [
    "Необходимо отсортировать массив дат и вывести результат на экран. В зависимости от переданного параметра отсортировать массив дат по возрастанию или по убыванию даты, используя алгоритмы сортировки: сортировку выбором, сортировку пузырьком и быструю сортировку. Сравнить время выполнения алгоритмов сортировки с помощью декоратора. Даты хранятся в файле."
   ]
  },
  {
   "cell_type": "code",
   "execution_count": 11,
   "id": "25340b9f-634d-400e-8fa4-ecdb1ac96703",
   "metadata": {},
   "outputs": [
    {
     "name": "stdout",
     "output_type": "stream",
     "text": [
      "Сортировка выбором: ['07.05.2022', '03.10.2022', '09.12.2022', '17.03.2023', '10.04.2023', '12.06.2023', '15.09.2023', '05.01.2024', '20.08.2024', '28.11.2024']\n"
     ]
    }
   ],
   "source": [
    "dates_list = ['15.09.2023', '07.05.2022', '28.11.2024', '10.04.2023', '03.10.2022', '20.08.2024', '12.06.2023',\n",
    "             '09.12.2022', '05.01.2024', '17.03.2023']\n",
    "\n",
    "def convert_date(date_str):\n",
    "    day, month, year = map(int, date_str.split('.'))\n",
    "    return year, month, day\n",
    "\n",
    "\n",
    "def selection_sort(dates):\n",
    "    for i in range(len(dates)):\n",
    "        min_idx = i\n",
    "        for j in range(i+1, len(dates)):\n",
    "            if convert_date(dates[j]) < convert_date(dates[min_idx]):\n",
    "                min_idx = j\n",
    "        dates[i], dates[min_idx] = dates[min_idx], dates[i]\n",
    "\n",
    "\n",
    "dates1 = dates_list.copy()\n",
    "selection_sort(dates1)\n",
    "print(\"Сортировка выбором:\", dates1)\n"
   ]
  },
  {
   "cell_type": "code",
   "execution_count": 13,
   "id": "46ee9c24-b829-4068-8424-9ba49b7d7859",
   "metadata": {},
   "outputs": [
    {
     "name": "stdout",
     "output_type": "stream",
     "text": [
      "Пузырьковая сортировка: ['07.05.2022', '03.10.2022', '09.12.2022', '17.03.2023', '10.04.2023', '12.06.2023', '15.09.2023', '05.01.2024', '20.08.2024', '28.11.2024']\n"
     ]
    }
   ],
   "source": [
    "def bubble_sort(dates):\n",
    "    for i in range(len(dates)):\n",
    "        for j in range(0, len(dates)-i-1):\n",
    "            if convert_date(dates[j]) > convert_date(dates[j+1]):\n",
    "                dates[j], dates[j+1] = dates[j+1], dates[j]\n",
    "\n",
    "\n",
    "dates2 = dates_list.copy()\n",
    "bubble_sort(dates2)\n",
    "print(\"Пузырьковая сортировка:\", dates2)\n"
   ]
  },
  {
   "cell_type": "markdown",
   "id": "66b5ecbc-da53-4efa-9885-2fff42eb73f1",
   "metadata": {},
   "source": [
    "Задание 39\n",
    "Реализовать класс бинарного дерева. Написать функцию для нахождения всех узлов, которые имеют двух потомков в бинарном дереве."
   ]
  },
  {
   "cell_type": "code",
   "execution_count": 16,
   "id": "104b85d4-3565-4264-8844-6e418954b0a4",
   "metadata": {},
   "outputs": [
    {
     "name": "stdout",
     "output_type": "stream",
     "text": [
      "Узлы с двумя потомками: [6, 4, 9]\n"
     ]
    }
   ],
   "source": [
    "class Node:\n",
    "    def __init__(self, value):\n",
    "        self.value = value\n",
    "        self.left = None\n",
    "        self.right = None\n",
    "\n",
    "class BinaryTree:\n",
    "    def __init__(self, root_value):\n",
    "        self.root = Node(root_value)\n",
    "\n",
    "    def find_nodes_with_two_children(self, node, result):\n",
    "        if node is None:\n",
    "            return\n",
    "        \n",
    "        if node.left and node.right:\n",
    "            result.append(node.value)\n",
    "        \n",
    "        self.find_nodes_with_two_children(node.left, result)\n",
    "        self.find_nodes_with_two_children(node.right, result)\n",
    "\n",
    "def inorder_traversal(node): # \"обход в обратном порядке\": левое поддерево, корень, правое поддерево\n",
    "    if node:\n",
    "        inorder_traversal(node.left)\n",
    "        print(node.value)\n",
    "        inorder_traversal(node.right)\n",
    "\n",
    "tree = BinaryTree(6)\n",
    "tree.root.left = Node(4)\n",
    "tree.root.right = Node(9)\n",
    "tree.root.left.left = Node(3)\n",
    "tree.root.left.right = Node(5)\n",
    "tree.root.right.left = Node(7)\n",
    "tree.root.right.right = Node(8)\n",
    "\n",
    "result = []\n",
    "tree.find_nodes_with_two_children(tree.root, result)\n",
    "print(\"Узлы с двумя потомками:\", result)"
   ]
  },
  {
   "cell_type": "markdown",
   "id": "beccc38b-885d-47d2-9019-bf3d34af7033",
   "metadata": {},
   "source": [
    "Задание 38\n",
    "Имеется система управления задачами. Каждая задача имеет приоритет и дедлайн. Реализовать структуру данных на основе двоичной кучи, которая будет поддерживать операции добавления задачи и извлечения задачи с наивысшим приоритетом и дедлайном до определенного времени."
   ]
  },
  {
   "cell_type": "code",
   "execution_count": 20,
   "id": "4e24a444-fe08-43ca-beae-9390446bcdce",
   "metadata": {},
   "outputs": [
    {
     "name": "stdout",
     "output_type": "stream",
     "text": [
      "Следующая задача с наивысшим приоритетом: Приоритет - 3, Дедлайн - 10\n"
     ]
    }
   ],
   "source": [
    "import heapq\n",
    "\n",
    "class Task:\n",
    "    def __init__(self, priority, deadline):\n",
    "        self.priority = priority\n",
    "        self.deadline = deadline\n",
    "        \n",
    "class TaskHeap:\n",
    "    def __init__(self):\n",
    "        self.tasks = []\n",
    "        \n",
    "    def add_task(self, task): # добавляет элемент в кучу\n",
    "        heapq.heappush(self.tasks, (-task.priority, task.deadline, task))\n",
    "        # -task.priority передается с минусом, так как модуль heapq реализует мин-кучу, \n",
    "        # где наивысший приоритет имеет наименьшее значение\n",
    "        \n",
    "    def extract_task(self, current_time): # извлекает и возвращает элемент с наивысшим приоритетом\n",
    "        while self.tasks:\n",
    "            priority, deadline, task = heapq.heappop(self.tasks)\n",
    "            if deadline >= current_time:\n",
    "                return task\n",
    "        return None\n",
    "\n",
    "\n",
    "task_heap = TaskHeap()\n",
    "\n",
    "task1 = Task(3, 10)\n",
    "task2 = Task(5, 5)\n",
    "task3 = Task(1, 8)\n",
    "\n",
    "task_heap.add_task(task1)\n",
    "task_heap.add_task(task2)\n",
    "task_heap.add_task(task3)\n",
    "\n",
    "current_time = 7\n",
    "next_task = task_heap.extract_task(current_time)\n",
    "print(f\"Следующая задача с наивысшим приоритетом: Приоритет - {next_task.priority}, Дедлайн - {next_task.deadline}\")\n"
   ]
  },
  {
   "cell_type": "code",
   "execution_count": null,
   "id": "54cf52d2-1607-45d9-a4f5-742a81499c32",
   "metadata": {},
   "outputs": [],
   "source": []
  }
 ],
 "metadata": {
  "kernelspec": {
   "display_name": "Python 3 (ipykernel)",
   "language": "python",
   "name": "python3"
  },
  "language_info": {
   "codemirror_mode": {
    "name": "ipython",
    "version": 3
   },
   "file_extension": ".py",
   "mimetype": "text/x-python",
   "name": "python",
   "nbconvert_exporter": "python",
   "pygments_lexer": "ipython3",
   "version": "3.11.7"
  }
 },
 "nbformat": 4,
 "nbformat_minor": 5
}
